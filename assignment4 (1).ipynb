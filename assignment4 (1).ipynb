{
 "cells": [
  {
   "cell_type": "code",
   "execution_count": null,
   "metadata": {
    "id": "l6D5R9UctcA6"
   },
   "outputs": [],
   "source": []
  },
  {
   "cell_type": "markdown",
   "metadata": {
    "id": "tWjRQp5O0pww"
   },
   "source": [
    "# **Question 1st**\n",
    "i) <br>\n",
    "Create a math function that will take a list as arguments and perform the following :<br>\n",
    "Return the sum of the list <br>\n",
    "Sum of square of all elements present in the list .<br>\n",
    "**Example:**\n",
    "calculate([1,2,3,4,5])<br>\n",
    "output: sum of all list is 15 \n",
    "sum of square of list elemnts is 36<br>\n",
    "\n",
    "\n",
    "\n",
    "\n"
   ]
  },
  {
   "cell_type": "code",
   "execution_count": 18,
   "metadata": {
    "id": "n652ipQtBfK6"
   },
   "outputs": [
    {
     "name": "stdout",
     "output_type": "stream",
     "text": [
      "15\n",
      "[1, 4, 9, 16, 25]\n",
      "55\n"
     ]
    }
   ],
   "source": [
    "list1 = [1,2,3,4,5]\n",
    "sum1 = 0\n",
    "for i in list1:\n",
    "    sum1+=i\n",
    "print(sum1)\n",
    "sqr = list(map(lambda a : a*a, list1))\n",
    "\n",
    "\n",
    "print(sqr)\n",
    "sum_sqr = 0\n",
    "for i in sqr:\n",
    "    sum_sqr+=i\n",
    "print(sum_sqr)"
   ]
  },
  {
   "cell_type": "markdown",
   "metadata": {
    "id": "b9eXTrGJ-HcT"
   },
   "source": [
    "# **Question 2nd**\n",
    "**a)**<br>\n",
    "**input=['a','a','b','c','d','a','a','i','g','g','h']**<br>\n",
    "**output={'a':4,'b':1,'c':1,'g':2,'h':1}**<br>\n",
    "consider input as a list and return a dictionary of occurances of each and every element present in the list.\n",
    "\n",
    "b)<br>\n",
    "Write the above program by defining a count function, such that when function is called, it should return a dictionary with occurances of each and every element.<br>\n",
    "\n",
    "count(['a','a','b','c','d','a','a','i','g','g','h'])<br>\n",
    "output:{'a':4,'b':1,'c':1,'g':2,'h':1}\n",
    "\n"
   ]
  },
  {
   "cell_type": "code",
   "execution_count": 17,
   "metadata": {
    "id": "wDgCT4Ia4oLH"
   },
   "outputs": [
    {
     "name": "stdout",
     "output_type": "stream",
     "text": [
      "a :  4\n",
      "b :  1\n",
      "c :  1\n",
      "d :  1\n",
      "i :  1\n",
      "g :  2\n",
      "h :  1\n",
      "{'a': 4, 'b': 1, 'c': 1, 'd': 1, 'i': 1, 'g': 2, 'h': 1}\n"
     ]
    }
   ],
   "source": [
    "list1 = ['a','a','b','c','d','a','a','i','g','g','h']\n",
    "occur = {}\n",
    "for item in list1:\n",
    "    if (item in occur):\n",
    "            occur[item] += 1\n",
    "    else:\n",
    "            occur[item] = 1\n",
    "for key, value in occur.items():\n",
    "    print (\"% s : % d\"%(key, value),)\n",
    "    \n",
    "    \n",
    "    \n",
    "list1=['a','a','b','c','d','a','a','i','g','g','h']\n",
    "count = {}\n",
    "for i in list1:\n",
    "    count[i] = count.get(i, 0) + 1\n",
    "print(count)"
   ]
  },
  {
   "cell_type": "markdown",
   "metadata": {
    "id": "joPcyrulC1ox"
   },
   "source": [
    "# **Question 3:<br>**\n",
    "\n",
    "**i)**\n",
    "create a even function that will take number as an argument and returns a list of all the even numbers starting with 2 to the number given as an input.(For clarity check the example)<br>\n",
    "**Example:**even(10)<br>\n",
    "output:[2,4,6,8,10]<br>\n",
    "\n",
    "**ii)**\n",
    "In second part you have to return the total sum of even numbers that you received as an output from the above question.\n",
    "\n",
    "Example:even(10)<br>\n",
    "output: your output is 220\n"
   ]
  },
  {
   "cell_type": "code",
   "execution_count": 21,
   "metadata": {
    "id": "17nJeH51-OKm"
   },
   "outputs": [
    {
     "data": {
      "text/plain": [
       "[2, 4, 6, 8]"
      ]
     },
     "execution_count": 21,
     "metadata": {},
     "output_type": "execute_result"
    }
   ],
   "source": [
    "def even(n): \n",
    "    L = list() \n",
    "    for i in range(1,n): \n",
    "        if i % 2==0: \n",
    "            L.append(i) \n",
    "    return L\n",
    "even(10)\n"
   ]
  },
  {
   "cell_type": "code",
   "execution_count": 22,
   "metadata": {},
   "outputs": [
    {
     "name": "stdout",
     "output_type": "stream",
     "text": [
      "sum = 20\n"
     ]
    }
   ],
   "source": [
    "sum1=0\n",
    "for i in range(10):\n",
    "    if i%2==0:\n",
    "        sum1=sum1+i\n",
    "print(\"sum =\",sum1)"
   ]
  },
  {
   "cell_type": "code",
   "execution_count": null,
   "metadata": {},
   "outputs": [],
   "source": []
  }
 ],
 "metadata": {
  "colab": {
   "collapsed_sections": [],
   "name": "assignment4.ipynb",
   "provenance": []
  },
  "kernelspec": {
   "display_name": "Python 3",
   "language": "python",
   "name": "python3"
  },
  "language_info": {
   "codemirror_mode": {
    "name": "ipython",
    "version": 3
   },
   "file_extension": ".py",
   "mimetype": "text/x-python",
   "name": "python",
   "nbconvert_exporter": "python",
   "pygments_lexer": "ipython3",
   "version": "3.8.8"
  }
 },
 "nbformat": 4,
 "nbformat_minor": 1
}
