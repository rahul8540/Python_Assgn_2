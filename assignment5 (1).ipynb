{
 "cells": [
  {
   "cell_type": "code",
   "execution_count": null,
   "metadata": {
    "id": "e50fiuhHJYlg"
   },
   "outputs": [],
   "source": []
  },
  {
   "cell_type": "markdown",
   "metadata": {
    "id": "bn9ovq--JdNj"
   },
   "source": [
    "# Question 1\n",
    "Define a  calculator function which takes 3 arguments from the user ,first two  will be numbers and third will be operations like (+,-,*,/).If user forgets to give third argument then by default operation it performs addition.\n",
    "\n",
    "calculator(3,4,+)\n",
    "output: sum of 3 and 4 is :7\n",
    "\n",
    "calculator(4,2)\n",
    "output: sum of 4 and 2 is :6"
   ]
  },
  {
   "cell_type": "code",
   "execution_count": 7,
   "metadata": {
    "id": "jAT2k578Mo1X"
   },
   "outputs": [
    {
     "name": "stdout",
     "output_type": "stream",
     "text": [
      "enter any : +,-,*,/ +\n",
      "1st no: 3\n",
      "2nd no: 4\n",
      "3 + 4 = \n",
      "7\n"
     ]
    }
   ],
   "source": [
    "def calculator():\n",
    "    opr = input('enter any : +,-,*,/ ')\n",
    "\n",
    "    no1 = int(input('1st no: '))\n",
    "    no2 = int(input('2nd no: '))\n",
    "\n",
    "    if opr == '+':\n",
    "        print('{} + {} = '.format(no1, no2))\n",
    "        print(no1 + no2)\n",
    "\n",
    "    elif opr == '-':\n",
    "        print('{} - {} = '.format(no1, no2))\n",
    "        print(no1 - no2)\n",
    "\n",
    "    elif opr == '*':\n",
    "        print('{} * {} = '.format(no1, no2))\n",
    "        print(no1 * no2)\n",
    "\n",
    "    elif opr == '/':\n",
    "        print('{} / {} = '.format(no1, no2))\n",
    "        print(no1 / no2)\n",
    "\n",
    "    else:\n",
    "        print('Invalid one')\n",
    "calculator()"
   ]
  },
  {
   "cell_type": "markdown",
   "metadata": {
    "id": "yhOn9YTiMrAK"
   },
   "source": [
    "# **Question 2**\n",
    "input:[23,34,23,36,48,56,56,100,100,100]<br>\n",
    "Write a function that will take a list as an input and returns second largest element from the list.\n",
    "\n",
    "maximum(input)<br>\n",
    "output :your second max element of list is 56.\n"
   ]
  },
  {
   "cell_type": "code",
   "execution_count": 6,
   "metadata": {
    "id": "m6oPCdfVQ9SJ"
   },
   "outputs": [
    {
     "name": "stdout",
     "output_type": "stream",
     "text": [
      "2nd highest :  56\n"
     ]
    }
   ],
   "source": [
    "list1 = [23,34,23,36,48,56,56,100,100,100]\n",
    " \n",
    "mx=max(list1[0],list1[1])\n",
    "secmax=min(list1[0],list1[1])\n",
    "n =len(list1)\n",
    "for i in range(2,n):\n",
    "    if list1[i]>mx:\n",
    "        secmax=mx\n",
    "        mx=list1[i]\n",
    "    elif list1[i]>secmax and \\\n",
    "        mx != list1[i]:\n",
    "        secmax=list1[i]\n",
    "print(\"2nd highest : \",\\\n",
    "      str(secmax))"
   ]
  },
  {
   "cell_type": "markdown",
   "metadata": {
    "id": "C8V6LLfiQ_5h"
   },
   "source": [
    "# Question 3\n",
    "input:[23,34,23,34,34,36,48,56,56,100,100,100]<br>\n",
    "Write a function that will take a list as an input and returns third minimum element from the list.\n",
    "\n",
    "minimum(input)<br>\n",
    "output :your third min element of list is 36."
   ]
  },
  {
   "cell_type": "code",
   "execution_count": 5,
   "metadata": {
    "id": "wmXncfdyResr"
   },
   "outputs": [
    {
     "data": {
      "text/plain": [
       "34"
      ]
     },
     "execution_count": 5,
     "metadata": {},
     "output_type": "execute_result"
    }
   ],
   "source": [
    "list1=[23,34,23,34,34,36,48,56,56,100,100,100]\n",
    "list1.sort()\n",
    "(list1[:3])[-1]"
   ]
  },
  {
   "cell_type": "markdown",
   "metadata": {
    "id": "CTnBNN9rRlO2"
   },
   "source": [
    "# **Question 4**\n",
    "create a function that will take string as an input and returns a list of last character of each and every word present in the string.\n",
    "\n",
    "\n",
    "last(\"My name is anonomyus and i love python')\n",
    "\n",
    "output:[ y,e,s,s,d,i,e,n]\n"
   ]
  },
  {
   "cell_type": "code",
   "execution_count": 1,
   "metadata": {},
   "outputs": [
    {
     "name": "stdout",
     "output_type": "stream",
     "text": [
      "y e s s d i e n "
     ]
    }
   ],
   "source": [
    "string= 'My name is anonomyus and i love python'\n",
    "string = string + \" \"\n",
    "for i in range(len(string)):\n",
    "    if string[i] == ' ':\n",
    "        print(string[i - 1], end = \" \")"
   ]
  },
  {
   "cell_type": "code",
   "execution_count": null,
   "metadata": {
    "colab": {
     "base_uri": "https://localhost:8080/"
    },
    "executionInfo": {
     "elapsed": 515,
     "status": "ok",
     "timestamp": 1625134480850,
     "user": {
      "displayName": "Ashish Saha",
      "photoUrl": "",
      "userId": "18015212631845498756"
     },
     "user_tz": -330
    },
    "id": "f2JdAtVvTCno",
    "outputId": "3ca940e7-a760-4908-9909-57ebf77e9ba8"
   },
   "outputs": [
    {
     "data": {
      "text/plain": [
       "[[1, 2, 3, 4, 5, 6, 7],\n",
       " [1, 4, 9, 16, 25, 36, 49],\n",
       " [1, 8, 27, 64, 125, 216, 343]]"
      ]
     },
     "execution_count": 3,
     "metadata": {
      "tags": []
     },
     "output_type": "execute_result"
    }
   ],
   "source": [
    "a=[[j for j in range(1,8)] if i==1 else [j*j for j in range(1,8)] if i==2 else [j*j*j for j in range(1,8)] for i in range(1,4)]\n",
    "a"
   ]
  },
  {
   "cell_type": "code",
   "execution_count": null,
   "metadata": {
    "id": "O013fU8fjwSP"
   },
   "outputs": [],
   "source": []
  }
 ],
 "metadata": {
  "colab": {
   "collapsed_sections": [],
   "name": "Assignment 5.ipynb",
   "provenance": []
  },
  "kernelspec": {
   "display_name": "Python 3",
   "language": "python",
   "name": "python3"
  },
  "language_info": {
   "codemirror_mode": {
    "name": "ipython",
    "version": 3
   },
   "file_extension": ".py",
   "mimetype": "text/x-python",
   "name": "python",
   "nbconvert_exporter": "python",
   "pygments_lexer": "ipython3",
   "version": "3.8.8"
  }
 },
 "nbformat": 4,
 "nbformat_minor": 1
}
